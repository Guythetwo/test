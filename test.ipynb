{
  "nbformat": 4,
  "nbformat_minor": 0,
  "metadata": {
    "colab": {
      "provenance": [],
      "toc_visible": true,
      "authorship_tag": "ABX9TyPw5dvujwVAkBFWsIzKGu9b",
      "include_colab_link": true
    },
    "kernelspec": {
      "name": "python3",
      "display_name": "Python 3"
    },
    "language_info": {
      "name": "python"
    }
  },
  "cells": [
    {
      "cell_type": "markdown",
      "metadata": {
        "id": "view-in-github",
        "colab_type": "text"
      },
      "source": [
        "<a href=\"https://colab.research.google.com/github/Guythetwo/test/blob/main/test.ipynb\" target=\"_parent\"><img src=\"https://colab.research.google.com/assets/colab-badge.svg\" alt=\"Open In Colab\"/></a>"
      ]
    },
    {
      "cell_type": "code",
      "execution_count": 1,
      "metadata": {
        "colab": {
          "base_uri": "https://localhost:8080/"
        },
        "id": "SXbmBgn2FvXw",
        "outputId": "f24428d3-1f0a-414e-f0d4-742eb0300a1e"
      },
      "outputs": [
        {
          "output_type": "stream",
          "name": "stdout",
          "text": [
            "Mounted at /content/drive\n"
          ]
        }
      ],
      "source": [
        "from google.colab import drive\n",
        "drive.mount('/content/drive')"
      ]
    },
    {
      "cell_type": "code",
      "source": [
        "import pandas as pd\n",
        "\n",
        "from sklearn.preprocessing import LabelEncoder\n",
        "from sklearn.model_selection import train_test_split, GridSearchCV\n",
        "from sklearn.ensemble import RandomForestClassifier\n",
        "from sklearn.metrics import accuracy_score, classification_report\n",
        "\n",
        "# โหลดข้อมูล\n",
        "data = pd.read_csv('/content/drive/MyDrive/ML/dataset.csv')\n",
        "\n",
        "# ตรวจสอบข้อมูลที่หายไป\n",
        "#print(data.isnull().sum())\n",
        "\n",
        "# แปลงตัวแปรเพศ (Sex) ให้เป็นตัวเลข\n",
        "le = LabelEncoder()\n",
        "data['Sex'] = le.fit_transform(data['Sex'])\n",
        "\n",
        "# เลือกคุณสมบัติ (Features) และเป้าหมาย (Target)\n",
        "X = data.drop(['Sex', 'age level'], axis=1)\n",
        "y = data['Sex']\n",
        "\n",
        "# แบ่งข้อมูลเป็นชุดฝึกอบรมและชุดทดสอบ\n",
        "X_train, X_test, y_train, y_test = train_test_split(X, y, test_size=0.2, random_state=42)\n",
        "\n",
        "# กำหนดพารามิเตอร์สำหรับการค้นหา\n",
        "param_grid = {\n",
        "    'n_estimators': [50, 100, 200],\n",
        "    'max_depth': [None, 10, 20, 30],\n",
        "    'min_samples_split': [2, 5, 10],\n",
        "    'min_samples_leaf': [1, 2, 4]\n",
        "}\n",
        "\n",
        "# สร้างโมเดล Random Forest และทำการค้นหาพารามิเตอร์ที่ดีที่สุด\n",
        "grid_search = GridSearchCV(estimator=RandomForestClassifier(random_state=42), param_grid=param_grid, cv=3, n_jobs=-1, verbose=2)\n",
        "grid_search.fit(X_train, y_train)\n",
        "\n",
        "# ใช้โมเดลที่ดีที่สุดในการทำนายผลบนชุดทดสอบ\n",
        "best_model = grid_search.best_estimator_\n",
        "y_pred = best_model.predict(X_test)\n",
        "\n",
        "# ประเมินประสิทธิภาพของโมเดล\n",
        "accuracy = accuracy_score(y_test, y_pred)\n",
        "report = classification_report(y_test, y_pred)\n",
        "\n",
        "print(f'Accuracy: {accuracy}')\n",
        "print('Classification Report:')\n",
        "print(report)\n"
      ],
      "metadata": {
        "colab": {
          "base_uri": "https://localhost:8080/"
        },
        "id": "-KgTB6weKpm4",
        "outputId": "e8d077d4-af3a-48e2-dfb1-c7da0dab5a1d"
      },
      "execution_count": 38,
      "outputs": [
        {
          "output_type": "stream",
          "name": "stdout",
          "text": [
            "Fitting 3 folds for each of 108 candidates, totalling 324 fits\n",
            "Accuracy: 0.5411061285500748\n",
            "Classification Report:\n",
            "              precision    recall  f1-score   support\n",
            "\n",
            "           0       0.49      0.36      0.42       225\n",
            "           1       0.64      0.80      0.71       200\n",
            "           2       0.47      0.50      0.48       244\n",
            "\n",
            "    accuracy                           0.54       669\n",
            "   macro avg       0.54      0.55      0.54       669\n",
            "weighted avg       0.53      0.54      0.53       669\n",
            "\n"
          ]
        }
      ]
    },
    {
      "cell_type": "code",
      "source": [
        "import joblib\n",
        "\n",
        "joblib.dump(best_model, 'best_model.joblib')"
      ],
      "metadata": {
        "colab": {
          "base_uri": "https://localhost:8080/"
        },
        "id": "otOdsoeZIHpV",
        "outputId": "5d8c42ba-23dd-4b6d-f7c0-4cf59737bbc4"
      },
      "execution_count": 8,
      "outputs": [
        {
          "output_type": "execute_result",
          "data": {
            "text/plain": [
              "['best_model.joblib']"
            ]
          },
          "metadata": {},
          "execution_count": 8
        }
      ]
    },
    {
      "cell_type": "code",
      "source": [
        "import joblib\n",
        "import numpy as np\n",
        "# โหลดโมเดลจากไฟล์\n",
        "loaded_model = joblib.load('best_model.joblib')\n",
        "label = np.array(['female','I', 'male'])\n",
        "# สร้างข้อมูลสำหรับทำนาย\n",
        "X_new = np.array([\n",
        "    [0.55,0.445,0.125,0.672,0.288,0.1365,0.21,11],\n",
        "    [0.305,0.225,0.07,0.1485,0.0585,0.0335,0.045,7]\n",
        "    ])\n",
        "# ใช้โมเดลที่โหลดมาทำนายผล\n",
        "y_pred = loaded_model.predict(X_new)\n",
        "#X_new\n",
        "y_pred"
      ],
      "metadata": {
        "colab": {
          "base_uri": "https://localhost:8080/"
        },
        "id": "rIWrOgYbIVfg",
        "outputId": "a17b12ae-ded2-40fe-95fe-896aae2a79b9"
      },
      "execution_count": 22,
      "outputs": [
        {
          "output_type": "stream",
          "name": "stderr",
          "text": [
            "/usr/local/lib/python3.10/dist-packages/sklearn/base.py:465: UserWarning: X does not have valid feature names, but RandomForestClassifier was fitted with feature names\n",
            "  warnings.warn(\n"
          ]
        },
        {
          "output_type": "execute_result",
          "data": {
            "text/plain": [
              "array(['Adult', 'young'], dtype=object)"
            ]
          },
          "metadata": {},
          "execution_count": 22
        }
      ]
    },
    {
      "cell_type": "code",
      "source": [
        "import pandas as pd\n",
        "import joblib\n",
        "from sklearn.metrics import accuracy_score, classification_report\n",
        "from sklearn.preprocessing import LabelEncoder\n",
        "\n",
        "# โหลดข้อมูลที่ไม่เคยเห็น\n",
        "unseen_data = pd.read_csv('/content/drive/MyDrive/ML/unseen.csv')\n",
        "\n",
        "# ตรวจสอบข้อมูลที่หายไปและจัดการกับมัน (เช่นเดียวกับข้อมูลฝึกอบรม)\n",
        "for column in unseen_data.select_dtypes(include=['float64', 'int64']).columns:\n",
        "    unseen_data[column].fillna(unseen_data[column].mean(), inplace=True)\n",
        "\n",
        "for column in unseen_data.select_dtypes(include=['object']).columns:\n",
        "    unseen_data[column].fillna(unseen_data[column].mode()[0], inplace=True)\n",
        "\n",
        "# แปลงตัวแปรเพศ (Sex) ให้เป็นตัวเลข\n",
        "le = LabelEncoder()\n",
        "unseen_data['Sex'] = le.fit_transform(unseen_data['Sex'])\n",
        "\n",
        "# เตรียมข้อมูล (เช่นเดียวกับการเตรียมข้อมูลฝึกอบรม)\n",
        "X_unseen = unseen_data.drop(['Sex', 'age level'], axis=1)\n",
        "y_true = unseen_data['Sex']\n",
        "\n",
        "# โหลดโมเดลที่ฝึกอบรมแล้ว\n",
        "model = joblib.load('best_model.joblib')\n",
        "\n",
        "# ทำนายผลด้วยข้อมูลที่ไม่เคยเห็น\n",
        "y_pred = model.predict(X_unseen)\n",
        "\n",
        "# ประเมินผลลัพธ์\n",
        "accuracy = accuracy_score(y_true, y_pred)\n",
        "report = classification_report(y_true, y_pred)\n",
        "\n",
        "print(f'Accuracy on unseen data: {accuracy}')\n",
        "print('Classification Report on unseen data:')\n",
        "print(report)\n"
      ],
      "metadata": {
        "colab": {
          "base_uri": "https://localhost:8080/"
        },
        "id": "03By54blJKKu",
        "outputId": "efc48ba6-e728-4695-9160-958a6782ef8c"
      },
      "execution_count": 27,
      "outputs": [
        {
          "output_type": "stream",
          "name": "stdout",
          "text": [
            "Accuracy on unseen data: 1.0\n",
            "Classification Report on unseen data:\n",
            "              precision    recall  f1-score   support\n",
            "\n",
            "       Adult       1.00      1.00      1.00       581\n",
            "         old       1.00      1.00      1.00        75\n",
            "       young       1.00      1.00      1.00       180\n",
            "\n",
            "    accuracy                           1.00       836\n",
            "   macro avg       1.00      1.00      1.00       836\n",
            "weighted avg       1.00      1.00      1.00       836\n",
            "\n"
          ]
        }
      ]
    }
  ]
}